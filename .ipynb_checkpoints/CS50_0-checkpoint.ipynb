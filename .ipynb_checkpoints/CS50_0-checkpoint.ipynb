{
 "cells": [
  {
   "cell_type": "code",
   "execution_count": 1,
   "id": "75ee6bb9-5bfe-42d5-90a0-8841c16c0866",
   "metadata": {},
   "outputs": [],
   "source": [
    "%load_ext sql\n",
    "%sql sqlite:///SQL/longlist.db"
   ]
  },
  {
   "cell_type": "code",
   "execution_count": 6,
   "id": "a128c7e1-dc8f-448f-aa58-89f10336b0dd",
   "metadata": {},
   "outputs": [
    {
     "name": "stdout",
     "output_type": "stream",
     "text": [
      " * sqlite:///SQL/longlist.db\n",
      "Done.\n"
     ]
    },
    {
     "data": {
      "text/html": [
       "<table>\n",
       "    <thead>\n",
       "        <tr>\n",
       "            <th>isbn</th>\n",
       "            <th>title</th>\n",
       "            <th>author</th>\n",
       "            <th>translator</th>\n",
       "            <th>format</th>\n",
       "            <th>pages</th>\n",
       "            <th>publisher</th>\n",
       "            <th>published</th>\n",
       "            <th>year</th>\n",
       "            <th>votes</th>\n",
       "            <th>rating</th>\n",
       "        </tr>\n",
       "    </thead>\n",
       "    <tbody>\n",
       "        <tr>\n",
       "            <td>9788439736967</td>\n",
       "            <td>Boulder</td>\n",
       "            <td>Eva Baltasar</td>\n",
       "            <td>Nicole d&#x27;Amonville Alegría</td>\n",
       "            <td>paperback</td>\n",
       "            <td>112</td>\n",
       "            <td>Literatura Random House</td>\n",
       "            <td>2022-08-02</td>\n",
       "            <td>2023</td>\n",
       "            <td>2779</td>\n",
       "            <td>3.77</td>\n",
       "        </tr>\n",
       "    </tbody>\n",
       "</table>"
      ],
      "text/plain": [
       "[('9788439736967', 'Boulder', 'Eva Baltasar', \"Nicole d'Amonville Alegría\", 'paperback', 112, 'Literatura Random House', '2022-08-02', 2023, 2779, 3.77)]"
      ]
     },
     "execution_count": 6,
     "metadata": {},
     "output_type": "execute_result"
    }
   ],
   "source": [
    "%%sql\n",
    "SELECT * FROM longlist LIMIT 1"
   ]
  },
  {
   "cell_type": "code",
   "execution_count": 21,
   "id": "b068999e-5669-4872-87d9-6669954bd63f",
   "metadata": {},
   "outputs": [
    {
     "name": "stdout",
     "output_type": "stream",
     "text": [
      " * sqlite:///SQL/longlist.db\n",
      "(sqlite3.OperationalError) near \"metadata\": syntax error\n",
      "[SQL: metadata.tables.keys()]\n",
      "(Background on this error at: https://sqlalche.me/e/20/e3q8)\n"
     ]
    }
   ],
   "source": [
    "%%sql \n",
    "metadata.tables.keys()"
   ]
  },
  {
   "cell_type": "code",
   "execution_count": null,
   "id": "ca061d0b-e0d5-43dd-ab0f-1615a078a4ee",
   "metadata": {},
   "outputs": [],
   "source": []
  }
 ],
 "metadata": {
  "kernelspec": {
   "display_name": "Python 3 (ipykernel)",
   "language": "python",
   "name": "python3"
  },
  "language_info": {
   "codemirror_mode": {
    "name": "ipython",
    "version": 3
   },
   "file_extension": ".py",
   "mimetype": "text/x-python",
   "name": "python",
   "nbconvert_exporter": "python",
   "pygments_lexer": "ipython3",
   "version": "3.11.6"
  }
 },
 "nbformat": 4,
 "nbformat_minor": 5
}
